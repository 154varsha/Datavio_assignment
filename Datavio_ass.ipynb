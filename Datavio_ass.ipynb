{
 "cells": [
  {
   "cell_type": "code",
   "execution_count": 20,
   "id": "35b58a61-9e6e-43ff-a987-7f0ed473f259",
   "metadata": {},
   "outputs": [
    {
     "name": "stdin",
     "output_type": "stream",
     "text": [
      "Enter gas at each station (comma-separated values):  1,2,3,4,5\n",
      "Enter cost of travel between stations (comma-separated values):  5,4,2,1,3\n"
     ]
    }
   ],
   "source": [
    "# Get user input for gas array\n",
    "gas_input = input(\"Enter gas array at each station (comma-separated values): \")\n",
    "gas = list(map(int, gas_input.split(',')))\n",
    "\n",
    "# Get user input for cost array\n",
    "cost_input = input(\"Enter cost array of travel between stations (comma-separated values): \")\n",
    "cost = list(map(int, cost_input.split(',')))"
   ]
  },
  {
   "cell_type": "code",
   "execution_count": 23,
   "id": "587018fd-7127-48a8-b9c4-91c0c0ecde0b",
   "metadata": {},
   "outputs": [],
   "source": [
    "# Now define the function\n",
    "def can_travel_circuit(gas, cost):\n",
    "    tot_gas = 0\n",
    "    tot_cost = 0\n",
    "    current_tank = 0\n",
    "    start_station = 0\n",
    "\n",
    "    for i in range(len(gas)):\n",
    "        tot_gas += gas[i]\n",
    "        tot_cost += cost[i]\n",
    "        current_tank += gas[i] - cost[i]\n",
    "\n",
    "        if current_tank < 0:\n",
    "            # If the current tank becomes negative, reset and try starting from the next station\n",
    "            current_tank = 0\n",
    "            start_station = i + 1\n",
    "\n",
    "    if tot_gas >= tot_cost:\n",
    "        # If the total gas is greater than or equal to the total cost, a solution exists\n",
    "        return start_station\n",
    "    else:\n",
    "        # If not, return -1 indicating no solution\n",
    "        return -1\n"
   ]
  },
  {
   "cell_type": "code",
   "execution_count": 22,
   "id": "37c35053-38e2-4d06-b7dc-2627f74b7725",
   "metadata": {},
   "outputs": [
    {
     "name": "stdout",
     "output_type": "stream",
     "text": [
      "2\n"
     ]
    }
   ],
   "source": [
    "# Call the function with user input\n",
    "result = can_travel_circuit(gas, cost)\n",
    "\n",
    "# Print the result\n",
    "print(result)"
   ]
  }
 ],
 "metadata": {
  "kernelspec": {
   "display_name": "Python 3 (ipykernel)",
   "language": "python",
   "name": "python3"
  },
  "language_info": {
   "codemirror_mode": {
    "name": "ipython",
    "version": 3
   },
   "file_extension": ".py",
   "mimetype": "text/x-python",
   "name": "python",
   "nbconvert_exporter": "python",
   "pygments_lexer": "ipython3",
   "version": "3.11.3"
  }
 },
 "nbformat": 4,
 "nbformat_minor": 5
}
